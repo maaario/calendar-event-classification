{
 "cells": [
  {
   "cell_type": "code",
   "execution_count": 2,
   "metadata": {},
   "outputs": [
    {
     "name": "stdout",
     "output_type": "stream",
     "text": [
      "                             summary  day_number  weekday  minutes_of_day  \\\n",
      "0    zapis stipendium diplomy na gjh         274        3             450   \n",
      "1                   skolske kolo acm         289        4             660   \n",
      "2          prve 2 kapitoly z algebry         272        1             480   \n",
      "3                         rychlostne         272        1             990   \n",
      "4  spisat si otazky na ksp chatu d u         273        2             780   \n",
      "\n",
      "   duration_minutes     label  \n",
      "0             120.0  personal  \n",
      "1             320.0  personal  \n",
      "2              90.0  personal  \n",
      "3             180.0  personal  \n",
      "4              60.0  personal  \n"
     ]
    }
   ],
   "source": [
    "import numpy as np\n",
    "import pandas as pd\n",
    "import matplotlib.pyplot as plt\n",
    "\n",
    "data = pd.read_table('data/processed_events.txt', sep=' ')\n",
    "print(data.head())"
   ]
  },
  {
   "cell_type": "markdown",
   "metadata": {},
   "source": [
    "# Select categories\n",
    "Count most frequent words (top ~150), categorize them into hand-crafted categories."
   ]
  },
  {
   "cell_type": "code",
   "execution_count": 3,
   "metadata": {},
   "outputs": [
    {
     "name": "stdout",
     "output_type": "stream",
     "text": [
      "[('a', 387), ('s', 318), ('ksp', 296), ('gitara', 249), ('obed', 243), ('9gag', 228), ('o', 226), ('film', 194), ('vecera', 186), ('na', 168), ('cvicenie', 139), ('ranajky', 137), ('sprcha', 128), ('v', 126), ('maily', 101), ('proofread', 92), ('u', 92), ('riad', 91), ('prask', 82), ('stretko', 76), ('the', 73), ('so', 70), ('mail', 69), ('do', 62), ('d', 61), ('foja', 60), ('upratovanie', 59), ('priprava', 52), ('z', 52), ('ted', 50), ('youtube', 47), ('matalyza', 47), ('vacuumlabs', 42), ('videa', 40), ('2', 39), ('wow', 39), ('1', 38), ('google', 37), ('tmf', 37), ('web', 35), ('cesta', 35), ('got', 34), ('ufo', 33), ('fb', 33), ('t2', 33), ('kniha', 31), ('of', 30), ('7', 30), ('trojsten', 29), ('pre', 29), ('fotky', 28), ('syslom', 28), ('prehlad', 27), ('6', 26), ('aj', 25), ('snaha', 24), ('balenie', 23), ('yousician', 23), ('5', 23), ('java', 23), ('sa', 23), ('vstupov', 22), ('kubom', 22), ('diskusia', 22), ('rodicmi', 21), ('ls', 21), ('citanie', 20), ('ulohy', 20), ('sustredkove', 20), ('ttt', 20), ('todo', 20), ('opravovanie', 19), ('submit', 19), ('chat', 19), ('pp', 19), ('wbw', 19), ('ltt', 18), ('nakup', 18), ('gjh', 18), ('3', 18), ('zabom', 18), ('20', 18), ('4', 17), ('anketa', 17), ('stronghold', 17), ('vzorak', 17), ('review', 17), ('hudba', 17), ('trojstenu', 17), ('filmov', 17), ('rozcvicka', 16), ('uktg', 16), ('opakovanie', 16), ('planovanie', 16), ('vysavanie', 15), ('petou', 15), ('prednaska', 15), ('fifcom', 15), ('vzorakov', 15), ('rozmyslanie', 15), ('co', 15), ('frisbee', 15), ('algebra', 14), ('7dni', 14), ('t', 14), ('zadani', 14), ('priklady', 14), ('spevnik', 14), ('facebook', 14), ('po', 14), ('star', 13), ('watchmojo', 13), ('limity', 13), ('gtd', 13), ('auparku', 13), ('oslava', 13), ('wars', 13), ('zadanie', 13), ('vsauce', 13), ('organizacia', 13), ('info', 13), ('collegehumor', 13), ('bujom', 13), ('zo', 13), ('sandynou', 12), ('baklazanom', 12), ('sila', 12), ('janom', 12), ('internet', 12), ('dedkom', 12), ('acm', 12), ('cistenie', 12), ('once', 12), ('vzoraky', 12), ('clanok', 12), ('petom', 12), ('ako', 12), ('udds', 11), ('misom', 11), ('hladanie', 11), ('umyvanie', 11), ('zvyku', 11), ('gordulic', 11), ('and', 11), ('app', 11), ('ads', 11), ('prednasky', 11), ('uloh', 11), ('zadania', 11), ('pr', 11), ('vyberko', 11), ('hangout', 11), ('8', 11), ('odpoved', 11), ('pisanie', 11), ('kapustnica', 10), ('mailov', 10), ('vzoraku', 10), ('pivo', 10), ('clanky', 10), ('naboja', 10), ('prechadzka', 10), ('ba', 10), ('in', 10), ('fks', 10), ('vstupy', 10), ('uvahy', 10), ('rozpravanie', 10), ('epica', 10), ('cup', 9), ('vystava', 9), ('spravy', 9), ('talks', 9), ('consciousness', 9), ('vyberanie', 9), ('rehabilitacia', 9), ('riesenia', 9), ('novinka', 9), ('tatom', 9), ('sait', 9), ('doodle', 9), ('sade', 9), ('filmu', 9), ('k', 9), ('rychlostne', 9), ('chaty', 9), ('pizza', 9), ('napady', 9), ('posilovanie', 9), ('teoria', 9), ('pozeranie', 8), ('riadu', 8), ('andrejky', 8), ('to', 8), ('interview', 8), ('strihanie', 8), ('pisomka', 8), ('presun', 8), ('matfyze', 8), ('cvicenia', 8)]\n"
     ]
    }
   ],
   "source": [
    "summaries = data['summary'][data['label'] == 'personal']\n",
    "\n",
    "word_frequencies = utils.count_word_frequencies(summaries)\n",
    "print(word_frequencies[0:200])\n",
    "\n",
    "# print('----------------------------------------------')\n",
    "# ngram_frequencies = utils.count_ngram_frequencies(summaries, 5)\n",
    "# print(ngram_frequencies[:100])"
   ]
  },
  {
   "cell_type": "code",
   "execution_count": 38,
   "metadata": {},
   "outputs": [
    {
     "name": "stdout",
     "output_type": "stream",
     "text": [
      "['ksp', 'proofread', 'stretko', 'prask', 'submit', 't2', 'ufo', 'trojsten', 'vstupov', 'ls', 'sustredkove', 'ttt', 'opravovanie', 'ltt', 'vzorak', 'trojstenu', 'vzorakov', 'zadani', 'zadanie', 'vzoraky', 'zadania', 'vyberko', 'naboj', 'naboja', 'vstupy', 'fks', 'vzoraku', 'doodle', 'novinka', 'riesenia', '9gag', 'film', 'ted', 'youtube', 'kniha', 'fb', 'got', 'citanie', 'wbw', 'hudba', 'filmov', 'facebook', 'vsauce', 'gtd', 'collegehumor', 'watchmojo', 'internet', 'zvyku', 'gordulic', 'filmu', 'consciousness', 'bourkova', 'filmy', 'pozeranie', 'obed', 'vecera', 'ranajky', 'pizza', 'gitara', 'wow', 'yousician', 'spev', 'stronghold', 'spevnik', 'epica', 'frisbee', 'prechadzka', 'posilovanie', 'foja', 'rp', 'bak', 'matalyza', 'uvod', 'kombat', 'mbi', 'pisomka', 'alg', 'xp', 'java', 'tg', 'algebra', 'pts', 'analyza', 'siete', 'pp', 'uktg', 'opakovanie', 'limity', 'acm', 'ads', 'udds', 'sait', 'rychlostne', 'cup']\n"
     ]
    }
   ],
   "source": [
    "categories_from_words = {\n",
    "    'trojsten': ['ksp', 'proofread', 'stretko', 'prask', 'submit', 't2', 'ufo', 'trojsten', 'vstupov', \n",
    "                 'ls', 'sustredkove', 'ttt', 'opravovanie', 'ltt', 'vzorak', 'trojstenu', 'vzorakov', 'zadani',\n",
    "                 'zadanie', 'vzoraky', 'zadania', 'vyberko', 'naboj', 'naboja', 'vstupy', 'fks', 'vzoraku',\n",
    "                 'doodle', 'novinka', 'riesenia', ],\n",
    "    # 'chores': ['riad', 'upratovanie', 'vysavanie', 'umyvanie', 'ponozky'], # too few: 100\n",
    "    'school': ['foja', 'rp', 'bak', 'matalyza', 'uvod', 'kombat','mbi', 'pisomka', 'alg', \n",
    "               'xp', 'java', 'tg', 'algebra', 'pts', 'analyza', 'siete', 'pp', 'uktg', 'opakovanie', 'limity',\n",
    "               'acm', 'ads', 'udds', 'sait', 'rychlostne', 'cup', ], # too few: 100\n",
    "    # 'work': ['vacuumlabs', 'tmf', ],\n",
    "    \n",
    "    'active_relax': ['gitara', 'wow', 'yousician', 'spev', 'stronghold', 'spevnik', 'epica',\n",
    "                     'frisbee', 'prechadzka', 'posilovanie',],\n",
    "    # 'workout': ['rozcvicka', 'cvicenie', 'rehabilitacia', 'frisbee', 'prechadzka', 'posilovanie', ], \n",
    "    # too few events, conflicts with food (ranajky, rozcvicka, sprcha)\n",
    "    \n",
    "    'passive_relax': ['9gag', 'film', 'ted', 'youtube', 'kniha', 'fb', 'got', 'citanie', 'wbw', 'hudba', 'filmov',\n",
    "                     'facebook', 'vsauce', 'gtd', 'collegehumor', 'watchmojo', 'internet', 'zvyku', 'gordulic',\n",
    "                     'filmu', 'consciousness', 'bourkova', 'filmy', 'pozeranie', ],\n",
    "    \n",
    "    'food': ['obed', 'vecera', 'ranajky', 'pizza'],\n",
    "    # 'washing': ['sprcha', 'vana', ],\n",
    "    # 'transport': ['cesta', ],\n",
    "    # 'with_people': ['kubom', 'syslom', 'zabom', 'petou', 'rodicmi', 'chat', 'fifcom', 'oslava', 'bujom', 'janom', \n",
    "    #                 'sandynou', 'dedkom', 'baklazanom', 'petom', 'misom', 'rozpravanie', 'kapustnica', 'pivo',\n",
    "    #                 'tatom', 'andrejky', ],\n",
    "}   \n",
    "\n",
    "key_words = [word for cat, words in categories_from_words.items() for word in words]\n",
    "print(key_words)"
   ]
  },
  {
   "cell_type": "markdown",
   "metadata": {},
   "source": [
    "# Categorize summaries\n",
    "Attach categories to each summary based on key words.\n",
    "\n",
    "Some categories were discarded (commented out in `categories_from_words` dictionary) due to not enough events in them or because of conflicts (e.g. `with_people` category had a large overlap with `food`).\n",
    "\n",
    "Finally if a summary have fallen into multiple categories, it was marked as uncategorized."
   ]
  },
  {
   "cell_type": "code",
   "execution_count": 79,
   "metadata": {},
   "outputs": [
    {
     "name": "stdout",
     "output_type": "stream",
     "text": [
      "Uncategorized: 1675\n",
      "Categorized: 2497\n",
      "At least 2 cats: 157\n",
      "At least 3 cats: 1\n",
      "{'trojsten': 0, 'passive_relax': 1, 'food': 2, 'active_relax': 3, 'school': 4}\n",
      "[[  0.  14.  10.  15.   5.]\n",
      " [ 14.   0.  79.  10.  11.]\n",
      " [ 10.  79.   0.  12.   1.]\n",
      " [ 15.  10.  12.   0.   0.]\n",
      " [  5.  11.   1.   0.   0.]]\n"
     ]
    }
   ],
   "source": [
    "def categorize_summaries(summaries, categories_from_words):\n",
    "    \"\"\"\n",
    "    For each summary creates a list of categories (list of strings).\n",
    "    \"\"\"\n",
    "    categorization = []\n",
    "    word_to_category_dict = {word: cat for cat, words in categories_from_words.items() for word in words}\n",
    "    \n",
    "    for summary in summaries:\n",
    "        categories = []\n",
    "        for word in summary.split():\n",
    "            cat = word_to_category_dict.get(word)\n",
    "            if cat is not None and cat not in categories:\n",
    "                categories.append(cat)\n",
    "        categorization.append(categories)\n",
    "    \n",
    "    return categorization\n",
    "\n",
    "categorization = categorize_summaries(summaries, categories_from_words)\n",
    "\n",
    "categorized = sum([1 for cats in categorization if len(cats) > 0])\n",
    "print('Uncategorized:', len(summaries) - categorized)\n",
    "print('Categorized:', categorized)\n",
    "print('At least 2 cats:', sum([1 for cats in categorization if len(cats) > 1]))\n",
    "print('At least 3 cats:', sum([1 for cats in categorization if len(cats) > 2]))\n",
    "\n",
    "\n",
    "n_categories = len(categories_from_words.keys())\n",
    "category_to_int = {cat: i for i, cat in enumerate(categories_from_words.keys())}\n",
    "\n",
    "cor_mat = np.zeros([n_categories, n_categories])\n",
    "for summary, categories in zip(summaries, categorization):\n",
    "    if len(categories) > 1:\n",
    "        ca = category_to_int[categories[0]]\n",
    "        cb = category_to_int[categories[1]]\n",
    "        cor_mat[ca, cb] += 1\n",
    "        \n",
    "        cor_mat[cb, ca] += 1\n",
    "        \n",
    "        # print(summary, categories)\n",
    "        \n",
    "print(category_to_int)\n",
    "print(cor_mat)"
   ]
  },
  {
   "cell_type": "code",
   "execution_count": 59,
   "metadata": {},
   "outputs": [
    {
     "data": {
      "image/png": "[encoded data removed]",
      "text/plain": [
       "<matplotlib.figure.Figure at 0x7f00d9906208>"
      ]
     },
     "metadata": {},
     "output_type": "display_data"
    }
   ],
   "source": [
    "unambiguous = pd.Series([categories[0] if len(categories) == 1 else \"\" for categories in categorization])\n",
    "unambiguous.value_counts().plot(kind='bar')\n",
    "plt.show()"
   ]
  },
  {
   "cell_type": "code",
   "execution_count": 77,
   "metadata": {},
   "outputs": [
    {
     "name": "stdout",
     "output_type": "stream",
     "text": [
      "                                summary  day_number  weekday  minutes_of_day  \\\n",
      "0       zapis stipendium diplomy na gjh         274        3             450   \n",
      "1                      skolske kolo acm         289        4             660   \n",
      "2             prve 2 kapitoly z algebry         272        1             480   \n",
      "3                            rychlostne         272        1             990   \n",
      "4     spisat si otazky na ksp chatu d u         273        2             780   \n",
      "5                               ads d u         274        3            1020   \n",
      "6                    algebra inverznost         275        4             360   \n",
      "7                        gjh ocenovanie         281        3             660   \n",
      "8             trojstenovy pondeok kvizy         278        0             720   \n",
      "9      aj du slovicka gumovanie algebra         279        1             480   \n",
      "10                        d u programko         279        1            1050   \n",
      "11                        web trojstenu         279        1            1110   \n",
      "12                        web trojstenu         280        2             900   \n",
      "13                          web stretko         280        2             795   \n",
      "14                        foja cvicenia         280        2             960   \n",
      "15                                 riad         280        2            1170   \n",
      "16                       55 vyrocie gjh         281        3             960   \n",
      "17                  sustredkove stretko         282        4             720   \n",
      "18                            vysavanie         284        6             600   \n",
      "19                             aj uloha         282        4            1080   \n",
      "20                             matalyza         283        5             420   \n",
      "21                       upratovanie t2         283        5             720   \n",
      "22                             matalyza         283        5            1020   \n",
      "23                  cvicenia z matalyzy         285        0             870   \n",
      "24                                 heno         284        6             720   \n",
      "25                             matalyza         284        6             990   \n",
      "26                             matalyza         284        6            1120   \n",
      "27                    sprehladnit zosit         284        6            1230   \n",
      "28                  sustredkove stretko         287        2             960   \n",
      "29             sustredkove mailove veci         285        0             780   \n",
      "...                                 ...         ...      ...             ...   \n",
      "6044                             spanok        1188        0            1320   \n",
      "6045                             spanok        1191        3            1410   \n",
      "6046                             spanok        1192        4             900   \n",
      "6047                             spanok        1193        5             150   \n",
      "6048                             spanok        1193        5             780   \n",
      "6049                             spanok        1195        0             840   \n",
      "6050                             spanok        1194        6            1410   \n",
      "6051                             spanok        1196        1               0   \n",
      "6052                             spanok        1198        3              60   \n",
      "6053                             spanok        1197        2              30   \n",
      "6054                             spanok        1199        4               0   \n",
      "6055                             spanok        1200        5               0   \n",
      "6056                             spanok        1200        5            1380   \n",
      "6057                             spanok        1203        1               0   \n",
      "6058                             spanok        1203        1            1380   \n",
      "6059                             spanok        1207        5             150   \n",
      "6060                             spanok        1206        4               0   \n",
      "6061                             spanok        1207        5            1380   \n",
      "6062                             spanok        1208        6            1380   \n",
      "6063                             spanok        1232        2             840   \n",
      "6064                             spanok        1256        5              60   \n",
      "6065                             spanok        1255        4              90   \n",
      "6066                             spanok        1273        1              60   \n",
      "6067                             spanok        1272        0              90   \n",
      "6068                             spanok        1274        2             900   \n",
      "6069                             spanok        1273        1            1230   \n",
      "6070                             spanok        1433        0              90   \n",
      "6071                             spanok        1435        2               0   \n",
      "6072                             spanok        1434        1              60   \n",
      "6073                             spanok        1434        1             780   \n",
      "\n",
      "      duration_minutes  calendar  category  \n",
      "0                120.0  personal            \n",
      "1                320.0  personal    school  \n",
      "2                 90.0  personal            \n",
      "3                180.0  personal    school  \n",
      "4                 60.0  personal  trojsten  \n",
      "5                 60.0  personal    school  \n",
      "6                 60.0  personal    school  \n",
      "7                 90.0  personal            \n",
      "8                120.0  personal            \n",
      "9                 90.0  personal    school  \n",
      "10                30.0  personal            \n",
      "11               120.0  personal  trojsten  \n",
      "12                60.0  personal  trojsten  \n",
      "13                75.0  personal  trojsten  \n",
      "14                90.0  personal    school  \n",
      "15                30.0  personal            \n",
      "16               300.0  personal            \n",
      "17               210.0  personal  trojsten  \n",
      "18                60.0  personal            \n",
      "19               120.0  personal            \n",
      "20                60.0  personal    school  \n",
      "21               240.0  personal  trojsten  \n",
      "22               180.0  personal    school  \n",
      "23                90.0  personal            \n",
      "24               240.0  personal            \n",
      "25                90.0  personal    school  \n",
      "26                70.0  personal    school  \n",
      "27                30.0  personal            \n",
      "28               120.0  personal  trojsten  \n",
      "29                60.0  personal  trojsten  \n",
      "...                ...       ...       ...  \n",
      "6044             480.0     sleep     sleep  \n",
      "6045             330.0     sleep     sleep  \n",
      "6046              90.0     sleep     sleep  \n",
      "6047             240.0     sleep     sleep  \n",
      "6048             240.0     sleep     sleep  \n",
      "6049              60.0     sleep     sleep  \n",
      "6050             330.0     sleep     sleep  \n",
      "6051             450.0     sleep     sleep  \n",
      "6052             480.0     sleep     sleep  \n",
      "6053             390.0     sleep     sleep  \n",
      "6054             420.0     sleep     sleep  \n",
      "6055             420.0     sleep     sleep  \n",
      "6056             600.0     sleep     sleep  \n",
      "6057             480.0     sleep     sleep  \n",
      "6058             390.0     sleep     sleep  \n",
      "6059             330.0     sleep     sleep  \n",
      "6060             390.0     sleep     sleep  \n",
      "6061             480.0     sleep     sleep  \n",
      "6062             360.0     sleep     sleep  \n",
      "6063             180.0     sleep     sleep  \n",
      "6064             600.0     sleep     sleep  \n",
      "6065             390.0     sleep     sleep  \n",
      "6066             360.0     sleep     sleep  \n",
      "6067             360.0     sleep     sleep  \n",
      "6068              90.0     sleep     sleep  \n",
      "6069             450.0     sleep     sleep  \n",
      "6070             510.0     sleep     sleep  \n",
      "6071             510.0     sleep     sleep  \n",
      "6072             270.0     sleep     sleep  \n",
      "6073              60.0     sleep     sleep  \n",
      "\n",
      "[6074 rows x 7 columns]\n"
     ]
    }
   ],
   "source": [
    "data = data.rename(index=str, columns={'label': 'calendar'})\n",
    "\n",
    "data['category'] = data['calendar']\n",
    "data.loc[data['calendar'] == 'personal', 'category'] = unambiguous.tolist()\n",
    "print(data)"
   ]
  },
  {
   "cell_type": "code",
   "execution_count": 78,
   "metadata": {},
   "outputs": [],
   "source": [
    "data.to_csv('categorized_events.csv')"
   ]
  },
  {
   "cell_type": "code",
   "execution_count": null,
   "metadata": {},
   "outputs": [],
   "source": []
  }
 ],
 "metadata": {
  "kernelspec": {
   "display_name": "Python 3",
   "language": "python",
   "name": "python3"
  },
  "language_info": {
   "codemirror_mode": {
    "name": "ipython",
    "version": 3
   },
   "file_extension": ".py",
   "mimetype": "text/x-python",
   "name": "python",
   "nbconvert_exporter": "python",
   "pygments_lexer": "ipython3",
   "version": "3.5.2"
  }
 },
 "nbformat": 4,
 "nbformat_minor": 2
}
